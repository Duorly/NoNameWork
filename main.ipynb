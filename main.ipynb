{
 "cells": [
  {
   "cell_type": "code",
   "id": "initial_id",
   "metadata": {
    "collapsed": true,
    "ExecuteTime": {
     "end_time": "2024-11-07T11:43:38.785516Z",
     "start_time": "2024-11-07T11:43:38.024376Z"
    }
   },
   "source": [
    "### Import libraries\n",
    "import pandas as pd\n",
    "import numpy as np\n",
    "from sklearn.model_selection import train_test_split, RandomizedSearchCV, validation_curve\n",
    "from sklearn.ensemble import GradientBoostingClassifier\n",
    "from sklearn.metrics import accuracy_score, roc_auc_score\n",
    "import matplotlib.pyplot as plt\n"
   ],
   "outputs": [],
   "execution_count": 30
  },
  {
   "metadata": {
    "ExecuteTime": {
     "end_time": "2024-11-07T11:43:38.848036Z",
     "start_time": "2024-11-07T11:43:38.790420Z"
    }
   },
   "cell_type": "code",
   "source": [
    "### Import data\n",
    "\n",
    "data_train = pd.read_csv(\"datasets/data_train.csv\")\n",
    "test_competition = pd.read_csv(\"datasets/test_competition.csv\")"
   ],
   "id": "aa6be0c72b85cd6b",
   "outputs": [],
   "execution_count": 31
  },
  {
   "metadata": {
    "ExecuteTime": {
     "end_time": "2024-11-07T11:43:38.925978Z",
     "start_time": "2024-11-07T11:43:38.896879Z"
    }
   },
   "cell_type": "code",
   "source": [
    "### Split data\n",
    "\n",
    "# Drop ID column as it doesn't contribute to predictions\n",
    "if 'ID' in data_train.columns:\n",
    "    data_train = data_train.drop(columns=['ID'])\n",
    "\n",
    "# Separate features and target variable\n",
    "X = data_train.drop(columns=['default.payment.next.month'])\n",
    "y = data_train['default.payment.next.month']\n",
    "\n",
    "X_train, X_val, y_train, y_val = train_test_split(X, y, test_size=0.2, random_state=42)"
   ],
   "id": "417ffe7aaab180fb",
   "outputs": [],
   "execution_count": 32
  },
  {
   "metadata": {
    "ExecuteTime": {
     "end_time": "2024-11-07T11:43:38.988100Z",
     "start_time": "2024-11-07T11:43:38.975063Z"
    }
   },
   "cell_type": "code",
   "source": [
    "# Step 1: Initialize the Gradient Boosting Classifier\n",
    "model = GradientBoostingClassifier(random_state=42)\n",
    "\n",
    "# Step 2: Hyperparameter tuning using RandomizedSearchCV\n",
    "param_dist = {\n",
    "    'n_estimators': [100, 200, 300],\n",
    "    'learning_rate': [0.01, 0.1, 0.2],\n",
    "    'max_depth': range(1, 30),\n",
    "    'min_samples_split': [2, 5, 10]\n",
    "}"
   ],
   "id": "474a6eb9bcd93100",
   "outputs": [],
   "execution_count": 33
  },
  {
   "metadata": {
    "ExecuteTime": {
     "end_time": "2024-11-07T12:14:07.584297Z",
     "start_time": "2024-11-07T11:43:39.037777Z"
    }
   },
   "cell_type": "code",
   "source": [
    "random_search = RandomizedSearchCV(model, param_distributions=param_dist, \n",
    "                                   n_iter=10, scoring='roc_auc', cv=5, random_state=42)\n",
    "\n",
    "random_search.fit(X_train, y_train)\n",
    "\n",
    "# Step 3: Evaluate the best model on validation data\n",
    "best_model = random_search.best_estimator_\n",
    "y_val_pred_proba = best_model.predict_proba(X_val)[:, 1]\n",
    "\n",
    "# Calculate accuracy and AUC score\n",
    "accuracy = accuracy_score(y_val, best_model.predict(X_val))\n",
    "auc_score = roc_auc_score(y_val, y_val_pred_proba)\n",
    "\n",
    "print(f\"Validation Accuracy: {accuracy}\")\n",
    "print(f\"Validation AUC: {auc_score}\")"
   ],
   "id": "bc64991712753ab",
   "outputs": [
    {
     "name": "stdout",
     "output_type": "stream",
     "text": [
      "Validation Accuracy: 0.824\n",
      "Validation AUC: 0.7831174023751236\n"
     ]
    }
   ],
   "execution_count": 34
  },
  {
   "metadata": {
    "ExecuteTime": {
     "end_time": "2024-11-07T12:14:07.773241Z",
     "start_time": "2024-11-07T12:14:07.718516Z"
    }
   },
   "cell_type": "code",
   "source": [
    "# Load the test dataset\n",
    "test_data = pd.read_csv(\"datasets/test_competition.csv\")\n",
    "\n",
    "# Drop the 'ID' column from the test data if it exists\n",
    "if 'ID' in test_data.columns:\n",
    "    test_data = test_data.drop(columns=['ID'])\n",
    "\n",
    "# Use the trained model to predict probabilities on the test data\n",
    "test_predictions = best_model.predict_proba(test_data)[:, 1]\n",
    "\n",
    "# Select top 1000 clients with highest probability of default\n",
    "top_1000_risk_indices = np.argsort(test_predictions)[-1000:]\n",
    "submission = test_data.iloc[top_1000_risk_indices].copy()  # Avoid SettingWithCopyWarning\n",
    "submission['default_risk_score'] = test_predictions[top_1000_risk_indices]\n",
    "\n",
    "# Save the top 1000 highest-risk clients to a CSV file\n",
    "submission[['default_risk_score']].to_csv('top_1000_risk_clients.csv', index=False)"
   ],
   "id": "da63bb82c3745144",
   "outputs": [],
   "execution_count": 35
  }
 ],
 "metadata": {
  "kernelspec": {
   "display_name": "Python 3",
   "language": "python",
   "name": "python3"
  },
  "language_info": {
   "codemirror_mode": {
    "name": "ipython",
    "version": 2
   },
   "file_extension": ".py",
   "mimetype": "text/x-python",
   "name": "python",
   "nbconvert_exporter": "python",
   "pygments_lexer": "ipython2",
   "version": "2.7.6"
  }
 },
 "nbformat": 4,
 "nbformat_minor": 5
}
